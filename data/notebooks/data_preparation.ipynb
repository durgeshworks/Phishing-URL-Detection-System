{
 "cells": [
  {
   "cell_type": "code",
   "execution_count": null,
   "id": "f385f6a8",
   "metadata": {},
   "outputs": [],
   "source": [
    "import pandas as pd\n",
    "import re\n",
    "\n",
    "def extract_features(url):\n",
    "    return {\n",
    "        \"url_length\": len(url),\n",
    "        \"num_dots\": url.count('.'),\n",
    "        \"num_hyphens\": url.count('-'),\n",
    "        \"num_at\": url.count('@'),\n",
    "        \"has_https\": int(\"https\" in url),\n",
    "        \"contains_login\": int(\"login\" in url),\n",
    "    }\n",
    "\n",
    "# Example\n",
    "data = [\"https://google.com\", \"http://update-bank-login.info\"]\n",
    "features = [extract_features(u) for u in data]\n",
    "df = pd.DataFrame(features)\n",
    "print(df)\n"
   ]
  }
 ],
 "metadata": {
  "kernelspec": {
   "display_name": ".conda",
   "language": "python",
   "name": "python3"
  },
  "language_info": {
   "name": "python",
   "version": "3.11.13"
  }
 },
 "nbformat": 4,
 "nbformat_minor": 5
}
